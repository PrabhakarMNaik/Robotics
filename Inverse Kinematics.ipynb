{
 "cells": [
  {
   "cell_type": "code",
   "execution_count": 162,
   "metadata": {},
   "outputs": [
    {
     "data": {
      "image/png": "[encoded data removed]",
      "text/plain": [
       "<Figure size 432x288 with 1 Axes>"
      ]
     },
     "metadata": {
      "needs_background": "light"
     },
     "output_type": "display_data"
    }
   ],
   "source": [
    "## Robot Link Length:\n",
    "L = 10.0 #L = L1 = L2\n",
    "\n",
    "# Initial position\n",
    "x0, y0 = 7, 8\n",
    "\n",
    "# Desired position\n",
    "xT, yT = -10, -5\n",
    "#No. of intermediate steps\n",
    "steps     = 5\n",
    "# Inverse Kinematics Function call\n",
    "IK(x0, y0, xT, yT, L, steps, flag = \"ED\")"
   ]
  },
  {
   "cell_type": "code",
   "execution_count": 161,
   "metadata": {},
   "outputs": [],
   "source": [
    "def IK(x0, y0, xT, yT, L, steps, flag):\n",
    "    \"\"\"\n",
    "    The IK problem will be solved sequentially for each point in the intPoint list with the initial-\n",
    "    point as the first element and the destination point as the next element. \n",
    "    \"\"\"\n",
    "    from math import sqrt, sin, cos, atan2\n",
    "    import matplotlib.pyplot as plt\n",
    "    if sqrt(x0**2 + y0**2) <= 2*L and sqrt(xT**2 + yT**2) <= 2*L :\n",
    "        # Equation of line\n",
    "        slope     = (yT - y0)/(xT - x0)\n",
    "        intercept = (slope * x0) - y0\n",
    "\n",
    "        line      = lambda t: slope * (x0 + (xT - x0)*t/steps) - intercept\n",
    "\n",
    "        # intermediate points\n",
    "        intPoints = [[(x0 + (xT - x0)*t/steps), line(t), flag] for t in range(steps + 1)]\n",
    "\n",
    "        intPoint= list(map(list, zip(*intPoints)))\n",
    "        plt.scatter(intPoint[0], intPoint[1], color = 'yellow')\n",
    "        for x,y in zip(intPoint[0], intPoint[1]):\n",
    "\n",
    "            label = \"{:d}\".format(intPoint[0].index(x))\n",
    "\n",
    "            plt.annotate(label, # this is the text\n",
    "                         (x,y), # this is the point to label\n",
    "                         textcoords=\"offset points\", # how to position the text\n",
    "                         xytext=(0,10), # distance from text to points (x,y)\n",
    "                         ha='center') # horizontal alignment can be left, right or center\n",
    "            RParam = list(map(IKMap, intPoints))\n",
    "    else:\n",
    "        print(\"Invalid Points\")"
   ]
  },
  {
   "cell_type": "code",
   "execution_count": 138,
   "metadata": {},
   "outputs": [],
   "source": [
    "def IKMap(point, L = 10):\n",
    "    from math import sqrt, sin, cos, atan2\n",
    "    import matplotlib.pyplot as plt\n",
    "    x, y, flag= point\n",
    "    # From Eqn (7)\n",
    "    A, B, C = x**2 + y**2, 2*x*L, 2*y*L\n",
    "    if flag == \"EU\":\n",
    "        num,den = C + sqrt(B**2 + C**2 - A**2), A + B\n",
    "    elif flag == 'ED':\n",
    "        num,den = C - sqrt(B**2 + C**2 - A**2), A + B\n",
    "    else: \n",
    "        print(\"Invalid Flag\")\n",
    "    # From Eqn (9)\n",
    "    theta1  = 2 * atan2(num, den)\n",
    "\n",
    "    # From Eqn (11)    \n",
    "    theta2  = atan2(y - (L*sin(theta1)), x - (L*cos(theta1))) - theta1\n",
    "    #------------- Plotting---------------#\n",
    "    p0 = [0, 0]\n",
    "    p1 = [L*cos(theta1), L*sin(theta1)]\n",
    "    p2 = [L*cos(theta1) + L*cos(theta1 + theta2), \n",
    "          L*sin(theta1) + L*sin(theta1 + theta2)]\n",
    "\n",
    "    l1 = list(map(list, zip(*[p0, p1])))\n",
    "    l2 = list(map(list, zip(*[p1, p2])))\n",
    "    \n",
    "    # Plotting the Points\n",
    "    plt.gca().set_aspect(\"equal\")\n",
    "    plt.xlim([-2*L-1, 2*L+1])\n",
    "    plt.ylim([-2*L-1, 2*L+1])\n",
    "\n",
    "    plt.plot(l1[0], l1[1], color = 'Blue')\n",
    "    plt.plot(l2[0], l2[1], color = 'Red')\n",
    "    plt.grid()"
   ]
  }
 ],
 "metadata": {
  "kernelspec": {
   "display_name": "Python 3",
   "language": "python",
   "name": "python3"
  },
  "language_info": {
   "codemirror_mode": {
    "name": "ipython",
    "version": 3
   },
   "file_extension": ".py",
   "mimetype": "text/x-python",
   "name": "python",
   "nbconvert_exporter": "python",
   "pygments_lexer": "ipython3",
   "version": "3.7.6"
  }
 },
 "nbformat": 4,
 "nbformat_minor": 4
}
